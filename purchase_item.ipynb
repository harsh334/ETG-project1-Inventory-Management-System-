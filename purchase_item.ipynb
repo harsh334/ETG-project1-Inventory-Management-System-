{
  "nbformat": 4,
  "nbformat_minor": 0,
  "metadata": {
    "colab": {
      "name": "purchase_item.ipynb",
      "provenance": []
    },
    "kernelspec": {
      "name": "python3",
      "display_name": "Python 3"
    },
    "language_info": {
      "name": "python"
    }
  },
  "cells": [
    {
      "cell_type": "code",
      "metadata": {
        "id": "nPrLPLEABYe3"
      },
      "source": [
        "\n",
        "import json\n",
        "\n",
        "data = open(\"record.json\",'r')\n",
        "r = data.read()\n",
        "data.close()\n",
        "\n",
        "records = json.loads(r)\n",
        "\n",
        "ui_prod  = str(input(\"Enter the product_Id: \"))\n",
        "ui_quant = int(input(\"Enter the quantity: \"))\n",
        "\n",
        "print(\"**************************************************\")\n",
        "print(\"Product: \", records[ui_prod]['prod_name'])\n",
        "print(\"Price: \", records[ui_prod]['prod_price'])\n",
        "print(\"date of mfg: \",records[ui_prod]['mfg_date'])\n",
        "print(\"date of expiry: \",records[ui_prod]['exp_date'])\n",
        "print(\"---------------------------------------------------\")\n",
        "print(\"Billing Amount: \", records[ui_prod]['prod_price'] * ui_quant)\n",
        "print(\"***************************************************\")\n",
        "records[ui_prod]['prod_quantity'] = records[ui_prod]['prod_quantity'] - ui_quant\n",
        "\n",
        "\n",
        "\n",
        "js = json.dumps(records)\n",
        "\n",
        "data = open(\"record.json\",'w')\n",
        "data.write(js)\n",
        "data.close()\n",
        "\n"
      ],
      "execution_count": null,
      "outputs": []
    }
  ]
}