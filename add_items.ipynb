{
  "nbformat": 4,
  "nbformat_minor": 0,
  "metadata": {
    "colab": {
      "name": "add_items.ipynb",
      "provenance": []
    },
    "kernelspec": {
      "name": "python3",
      "display_name": "Python 3"
    },
    "language_info": {
      "name": "python"
    }
  },
  "cells": [
    {
      "cell_type": "code",
      "metadata": {
        "id": "nPrLPLEABYe3"
      },
      "source": [
        "# ---------------read inventory---------------\n",
        "\n",
        "import json\n",
        "\n",
        "data = open(\"record.json\",'r')\n",
        "r = data.read()\n",
        "data.close()\n",
        "record = json.loads(r)\n",
        "# print(record)\n",
        "\n",
        "# ---------------------------add new data to inventory------------------\n",
        "\n",
        "\n",
        "prod_id = str(input(\"Enter product id:\"))\n",
        "prod_name = str(input(\"Enter name:\"))\n",
        "prod_price = int(input(\"Enter price:\"))\n",
        "prod_quantity = int(input(\"Enter quantity:\"))\n",
        "mfg_date=str(input(\"Enter mfg date:\"))\n",
        "exp_date=str(input(\"Enter exp data:\"))\n",
        "\n",
        "record[prod_id] = {'prod_name': prod_name, 'prod_price': prod_price, 'prod_quantity': prod_quantity,'mfg_date': mfg_date,'exp_date':exp_date}\n",
        "\n",
        "js = json.dumps(record)\n",
        "\n",
        "data = open(\"record.json\",'w')\n",
        "data.write(js)\n",
        "data.close()\n",
        "\n"
      ],
      "execution_count": null,
      "outputs": []
    }
  ]
}